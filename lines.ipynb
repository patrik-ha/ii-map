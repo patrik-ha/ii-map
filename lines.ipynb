{
 "cells": [
  {
   "cell_type": "code",
   "execution_count": null,
   "metadata": {},
   "outputs": [],
   "source": [
    "%load_ext autoreload\n",
    "%autoreload 2"
   ]
  },
  {
   "cell_type": "code",
   "execution_count": null,
   "metadata": {},
   "outputs": [],
   "source": [
    "import tensorflow as tf\n",
    "import tensorflow.keras as keras\n",
    "from helpers import mask_fen, get_model_and_masker, process_puzzles_to_fen_move_pairs\n",
    "\n",
    "model, masker = get_model_and_masker()"
   ]
  },
  {
   "cell_type": "code",
   "execution_count": null,
   "metadata": {},
   "outputs": [],
   "source": [
    "import os \n",
    "import io\n",
    "import chess.pgn\n",
    "fens = []\n",
    "# Change the path here. Check the pgns-folder for the ones we used. You can also add your own!\n",
    "pgn_path = \"2021_06\"\n",
    "with open(os.path.join(\"pgns\", pgn_path +\".pgn\")) as f:\n",
    "    game = chess.pgn.read_game(f)\n",
    "\n",
    "board = game.board()\n",
    "for i, move in enumerate(game.mainline_moves()):\n",
    "    board.push(move)\n",
    "    fens.append(board.fen())"
   ]
  },
  {
   "cell_type": "code",
   "execution_count": null,
   "metadata": {},
   "outputs": [],
   "source": [
    "# 2021 06\n",
    "indices = [31, 50, 71]\n",
    "# century\n",
    "# indices = [22, 29, 42]\n",
    "# deepblue\n",
    "# indices = [22 * 2, 35 * 2 + 1, -1]\n",
    "state = fens[indices[2]]"
   ]
  },
  {
   "cell_type": "code",
   "execution_count": null,
   "metadata": {},
   "outputs": [],
   "source": [
    "board, manim_board, masked_position, planes, base_masked = mask_fen(state, masker)"
   ]
  },
  {
   "cell_type": "code",
   "execution_count": null,
   "metadata": {},
   "outputs": [],
   "source": [
    "%%manim -qm -v WARNING SquareToCircle\n",
    "from manim import Scene, ORIGIN\n",
    "import numpy as np\n",
    "class SquareToCircle(Scene):\n",
    "    def construct(self):\n",
    "        # manim_board.rotate_about_origin(np.pi)\n",
    "        self.add(manim_board.move_to(ORIGIN))"
   ]
  }
 ],
 "metadata": {
  "kernelspec": {
   "display_name": "Python 3",
   "language": "python",
   "name": "python3"
  },
  "language_info": {
   "codemirror_mode": {
    "name": "ipython",
    "version": 3
   },
   "file_extension": ".py",
   "mimetype": "text/x-python",
   "name": "python",
   "nbconvert_exporter": "python",
   "pygments_lexer": "ipython3",
   "version": "3.10.8"
  },
  "orig_nbformat": 4
 },
 "nbformat": 4,
 "nbformat_minor": 2
}

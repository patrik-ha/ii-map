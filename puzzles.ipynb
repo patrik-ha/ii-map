{
 "cells": [
  {
   "cell_type": "code",
   "execution_count": 1,
   "metadata": {},
   "outputs": [],
   "source": [
    "%load_ext autoreload\n",
    "%autoreload 2"
   ]
  },
  {
   "cell_type": "code",
   "execution_count": null,
   "metadata": {},
   "outputs": [],
   "source": [
    "import tensorflow as tf\n",
    "import tensorflow.keras as keras\n",
    "from helpers import mask_fen, get_model_and_masker, process_puzzles_to_fen_move_pairs\n",
    "\n",
    "model, masker = get_model_and_masker()"
   ]
  },
  {
   "cell_type": "code",
   "execution_count": 3,
   "metadata": {},
   "outputs": [],
   "source": [
    "import pandas as pd\n",
    "# We've already done this to make the file we add a bit smaller.\n",
    "# This is the lichess puzzle database.\n",
    "puzzles = pd.read_csv(\"archive.csv\")\n",
    "puzzles = puzzles[puzzles[\"NbPlays\"] > 20000]\n",
    "puzzles = puzzles[puzzles[\"Themes\"].apply(lambda x: \"oneMove\" in x)]"
   ]
  },
  {
   "cell_type": "code",
   "execution_count": null,
   "metadata": {},
   "outputs": [],
   "source": [
    "fen_state_pairs = process_puzzles_to_fen_move_pairs(puzzles)\n",
    "# We used the first, second and third puzzle in this archive.\n",
    "state, move = fen_state_pairs[2]\n",
    "board, manim_board, masked_position, board_planes, base_masked = mask_fen(state, masker, move)"
   ]
  },
  {
   "cell_type": "code",
   "execution_count": null,
   "metadata": {},
   "outputs": [],
   "source": [
    "%%manim -qm -v WARNING SquareToCircle\n",
    "\n",
    "\n",
    "from manim import Scene, ORIGIN\n",
    "import numpy as np\n",
    "class SquareToCircle(Scene):\n",
    "    def construct(self):\n",
    "        # manim_board.rotate_about_origin(np.pi)\n",
    "        self.add(manim_board.move_to(ORIGIN))"
   ]
  }
 ],
 "metadata": {
  "kernelspec": {
   "display_name": "Python 3",
   "language": "python",
   "name": "python3"
  },
  "language_info": {
   "codemirror_mode": {
    "name": "ipython",
    "version": 3
   },
   "file_extension": ".py",
   "mimetype": "text/x-python",
   "name": "python",
   "nbconvert_exporter": "python",
   "pygments_lexer": "ipython3",
   "version": "3.10.8"
  },
  "orig_nbformat": 4
 },
 "nbformat": 4,
 "nbformat_minor": 2
}

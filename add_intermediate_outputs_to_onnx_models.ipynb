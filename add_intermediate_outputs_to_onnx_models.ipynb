{
 "cells": [
  {
   "cell_type": "code",
   "execution_count": 4,
   "metadata": {},
   "outputs": [],
   "source": [
    "import onnx\n",
    "from onnx import helper\n",
    "\n",
    "import os\n",
    "os.makedirs(\"prepared_networks\", exist_ok=True)\n",
    "model_paths = os.listdir(\"networks\")\n",
    "for model_path in model_paths:\n",
    "    if \".onnx\" not in model_path:\n",
    "        continue\n",
    "    model = onnx.load(os.path.join(\"networks\", model_path))\n",
    "    for node in model.graph.node:\n",
    "        if \"mixin\" in node.name or node.name == \"/inputconv/relu\":\n",
    "            intermediate_layer_value_info = helper.ValueInfoProto()\n",
    "            intermediate_layer_value_info.name = node.name\n",
    "            model.graph.output.append(intermediate_layer_value_info)\n",
    "    onnx.save(model, os.path.join(\"prepared_networks\", model_path))"
   ]
  }
 ],
 "metadata": {
  "kernelspec": {
   "display_name": ".env",
   "language": "python",
   "name": "python3"
  },
  "language_info": {
   "codemirror_mode": {
    "name": "ipython",
    "version": 3
   },
   "file_extension": ".py",
   "mimetype": "text/x-python",
   "name": "python",
   "nbconvert_exporter": "python",
   "pygments_lexer": "ipython3",
   "version": "3.10.8"
  },
  "orig_nbformat": 4
 },
 "nbformat": 4,
 "nbformat_minor": 2
}

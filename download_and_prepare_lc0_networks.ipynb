{
 "cells": [
  {
   "cell_type": "code",
   "execution_count": null,
   "metadata": {},
   "outputs": [],
   "source": [
    "# We did this, but you don't have to. The results are just pasted below.\n",
    "\n",
    "# import urllib.request\n",
    "# urllib.request.urlretrieve(\"http://training.lczero.org/networks/?show_all=1\", \"networks.html\")\n",
    "\n",
    "# from bs4 import BeautifulSoup\n",
    "\n",
    "# with open(\"test.html\") as f:\n",
    "#     soup = BeautifulSoup(f, 'html.parser')\n",
    "\n",
    "# network_iterations = [1, 200, 400, 600, 800, 1000, 1200, 1400, 1600, 1800, 2000, 2200, 2390]\n",
    "# results = []\n",
    "# for row in soup.find_all(\"tr\"):\n",
    "#     for iter in network_iterations:\n",
    "#         iteration_string = str(30000 + iter)\n",
    "#         if iteration_string in row.contents[1]:\n",
    "#             results.append((iteration_string, row.contents[5].contents[0]['href']))"
   ]
  },
  {
   "cell_type": "code",
   "execution_count": null,
   "metadata": {},
   "outputs": [],
   "source": [
    "results = [('32390',\n",
    "  '/get_network?sha=afc29f06124e0fd5e3d6861cf11bb2c815e998d7a02f38df80c60433efbb9e03'),\n",
    " ('32200',\n",
    "  '/get_network?sha=b3b587dd729e1404fb44ef5e2779ba409af648353a1f4c186189c7b47f119a67'),\n",
    " ('32000',\n",
    "  '/get_network?sha=90e06fbc19d8f5e5461d74c65a00945fd62a03d28d8a8b342a5abedecbfce870'),\n",
    " ('31800',\n",
    "  '/get_network?sha=def61c7fc4fd61e9672bac342698442207830992a68fe0cb0cb7909a06b906e9'),\n",
    " ('31600',\n",
    "  '/get_network?sha=3a1f28c2798366b617ac81d1f0a104c533aba154f76d296eb588f9e5bf11adab'),\n",
    " ('31400',\n",
    "  '/get_network?sha=1cf5f3e8fb811cfed7f8264a75774413bbe0988cbf52d7fbde48ccfc1cbc1ae1'),\n",
    " ('31200',\n",
    "  '/get_network?sha=dfa1d16b0ba4033e3670ba6e8a005aa83899f4d43d38a6f055b969cccfcb8b8a'),\n",
    " ('31000',\n",
    "  '/get_network?sha=f0b24b59d49559d126c11c75f3e880ff5df668dc193257389e055032d96bd094'),\n",
    " ('30800',\n",
    "  '/get_network?sha=d42f0474cacd8eef594497f4fde8c86589c9debeef228e9187348ecee286f4b1'),\n",
    " ('30600',\n",
    "  '/get_network?sha=bc71a782ad4f761d7704b58941d83906b4d463d36b1e74b54b648f6ff1d94c79'),\n",
    " ('30400',\n",
    "  '/get_network?sha=ee1a97043c014ce9c69dc4bdce4e963f69a46f859bc163f56a41048f7dd7e73d'),\n",
    " ('30200',\n",
    "  '/get_network?sha=beeea4b68de6555b339b409734f021fd0bdd98a153f43a4e6315b5f2b07ae99a'),\n",
    " ('30001',\n",
    "  '/get_network?sha=eda1cc8d5b43aedd36a264d68de8e2c32cdee8e9a9ce7d50c3f82bc9f51e36f5')]"
   ]
  },
  {
   "cell_type": "code",
   "execution_count": null,
   "metadata": {},
   "outputs": [],
   "source": [
    "import urllib.request\n",
    "import os\n",
    "from tqdm import tqdm\n",
    "# You could also download these manually if you want.\n",
    "os.makedirs(\"networks\", exist_ok=True)\n",
    "opener = urllib.request.build_opener()\n",
    "# Sneaky!\n",
    "opener.addheaders = [(\"User-agent\", \"Mozilla/5.0\")]\n",
    "urllib.request.install_opener(opener)\n",
    "for iteration, href in tqdm(results, total=len(results)):\n",
    "    urllib.request.urlretrieve(\"http://training.lczero.org\" + href, \"networks/\" + iteration + \".pb\")"
   ]
  }
 ],
 "metadata": {
  "kernelspec": {
   "display_name": "Python 3",
   "language": "python",
   "name": "python3"
  },
  "language_info": {
   "codemirror_mode": {
    "name": "ipython",
    "version": 3
   },
   "file_extension": ".py",
   "mimetype": "text/x-python",
   "name": "python",
   "nbconvert_exporter": "python",
   "pygments_lexer": "ipython3",
   "version": "3.10.8"
  },
  "orig_nbformat": 4
 },
 "nbformat": 4,
 "nbformat_minor": 2
}
